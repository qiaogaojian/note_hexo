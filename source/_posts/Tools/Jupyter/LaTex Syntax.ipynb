{
 "cells": [
  {
   "cell_type": "markdown",
   "metadata": {},
   "source": [
    "# LaTex 语法"
   ]
  },
  {
   "cell_type": "code",
   "execution_count": 6,
   "metadata": {},
   "outputs": [],
   "source": [
    "from sympy import *"
   ]
  },
  {
   "cell_type": "markdown",
   "metadata": {},
   "source": [
    "## Latex expression"
   ]
  },
  {
   "cell_type": "markdown",
   "metadata": {},
   "source": [
    "Using $ sign both before and after an expression"
   ]
  },
  {
   "cell_type": "raw",
   "metadata": {},
   "source": [
    "$(a+b)(a-b) = a^2-b^2$"
   ]
  },
  {
   "cell_type": "markdown",
   "metadata": {},
   "source": [
    "$(a+b)(a-b) = a^2-b^2$"
   ]
  },
  {
   "cell_type": "markdown",
   "metadata": {},
   "source": [
    "## Centering the line using double dolar signs"
   ]
  },
  {
   "cell_type": "raw",
   "metadata": {},
   "source": [
    "$$(a+b)(a-b) = a^2-b^2$$"
   ]
  },
  {
   "cell_type": "markdown",
   "metadata": {},
   "source": [
    "$$(a+b)(a-b) = a^2-b^2$$"
   ]
  },
  {
   "cell_type": "markdown",
   "metadata": {},
   "source": [
    "## Greek letters using escape character '\\\\'and letter name "
   ]
  },
  {
   "cell_type": "raw",
   "metadata": {},
   "source": [
    "$\\alpha < \\beta$"
   ]
  },
  {
   "cell_type": "markdown",
   "metadata": {},
   "source": [
    "$\\alpha < \\beta$"
   ]
  },
  {
   "cell_type": "markdown",
   "metadata": {},
   "source": [
    "## Subscripts: underscore_, new line <br>"
   ]
  },
  {
   "cell_type": "raw",
   "metadata": {},
   "source": [
    "$\\alpha_1 < \\beta_1$\n",
    "<br>\n",
    "$a_1x + b_1y = c$"
   ]
  },
  {
   "cell_type": "markdown",
   "metadata": {},
   "source": [
    "$\\alpha_1 < \\beta_1$\n",
    "<br>\n",
    "$a_1x + b_1y = c$"
   ]
  },
  {
   "cell_type": "raw",
   "metadata": {},
   "source": [
    "$\\sum_{i=0}^\\infty x_i$"
   ]
  },
  {
   "cell_type": "markdown",
   "metadata": {},
   "source": [
    "$\\sum_{i=0}^\\infty x_i$"
   ]
  },
  {
   "cell_type": "markdown",
   "metadata": {},
   "source": [
    "## Fractions and binomial"
   ]
  },
  {
   "cell_type": "raw",
   "metadata": {},
   "source": [
    "$$\\frac{3}{4}$$\n",
    "<br>\n",
    "$$\\fracab$$\n",
    "<br>\n",
    "$$\\frac{3}{4}\\binom{3}{4}$$\n",
    "<br>\n",
    "$$\\left(\\frac{5-\\frac{1}{x}}{4}\\right)$$"
   ]
  },
  {
   "cell_type": "markdown",
   "metadata": {},
   "source": [
    "$$\\frac{3}{4}$$\n",
    "<br>\n",
    "$$\\frac ab$$\n",
    "<br>\n",
    "$$\\frac{3}{4}\\binom{3}{4}$$\n",
    "<br>\n",
    "$$\\left(\\frac{5-\\frac{1}{x}}{4}\\right)$$"
   ]
  },
  {
   "cell_type": "markdown",
   "metadata": {},
   "source": [
    "## Hats and vectors"
   ]
  },
  {
   "cell_type": "code",
   "execution_count": null,
   "metadata": {},
   "outputs": [],
   "source": [
    "$$3\\hat{i} - 2\\hat{j}$$\n",
    "<br>\n",
    "$$\\vec v = (1,2,3,4)$$"
   ]
  },
  {
   "cell_type": "markdown",
   "metadata": {},
   "source": [
    "$$3\\hat{i} - 2\\hat{j}$$\n",
    "<br>\n",
    "$$\\vec v = (1,2,3,4)$$"
   ]
  },
  {
   "cell_type": "markdown",
   "metadata": {},
   "source": [
    "## exponents"
   ]
  },
  {
   "cell_type": "raw",
   "metadata": {},
   "source": [
    "$e^{i\\theta} = cos(\\theta) + i\\cdot sin(\\theta)$\n",
    "<br>\n",
    "$$sin^{-1}\\left(\\frac{\\pi}{2}\\right)$$"
   ]
  },
  {
   "cell_type": "markdown",
   "metadata": {},
   "source": [
    "$e^{i\\theta} = cos(\\theta) + i\\cdot sin(\\theta)$\n",
    "<br>\n",
    "$$sin^{-1}\\left(\\frac{\\pi}{2}\\right)$$"
   ]
  },
  {
   "cell_type": "markdown",
   "metadata": {},
   "source": [
    "## Matrices and Multiplication"
   ]
  },
  {
   "cell_type": "code",
   "execution_count": null,
   "metadata": {},
   "outputs": [],
   "source": [
    "$$\\begin{bmatrix}\n",
    "1&2&3\n",
    "4&5&6\n",
    "\\end{bgmatrix}\n",
    "\\cdot \n",
    "\\begin{bmatrix}\n",
    "x\n",
    "y\n",
    "\\end {bmatrix}$$\n",
    "<br>\n",
    "$2\\times3$"
   ]
  },
  {
   "cell_type": "markdown",
   "metadata": {},
   "source": [
    "$$\\begin{bmatrix}\n",
    "1 & 2 & 3\\\\\n",
    "4 & 5 & 6\n",
    "\\end{bmatrix}\n",
    "\\cdot \n",
    "\\begin{bmatrix} \n",
    "x\\\\y\n",
    "\\end {bmatrix}$$\n",
    "<br>\n",
    "$2 \\times 3$"
   ]
  }
 ],
 "metadata": {
  "kernelspec": {
   "display_name": "Python 3",
   "language": "python",
   "name": "python3"
  },
  "language_info": {
   "codemirror_mode": {
    "name": "ipython",
    "version": 3
   },
   "file_extension": ".py",
   "mimetype": "text/x-python",
   "name": "python",
   "nbconvert_exporter": "python",
   "pygments_lexer": "ipython3",
   "version": "3.8.3"
  }
 },
 "nbformat": 4,
 "nbformat_minor": 4
}
