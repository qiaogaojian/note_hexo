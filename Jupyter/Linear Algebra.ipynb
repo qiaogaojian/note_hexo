{
 "cells": [
  {
   "cell_type": "code",
   "execution_count": 62,
   "metadata": {},
   "outputs": [],
   "source": [
    "from sympy import *\n",
    "from sympy import symbols\n",
    "import numpy as np\n",
    "from fractions import Fraction"
   ]
  },
  {
   "cell_type": "code",
   "execution_count": 15,
   "metadata": {},
   "outputs": [],
   "source": [
    "init_printing(use_latex=true)"
   ]
  },
  {
   "cell_type": "markdown",
   "metadata": {},
   "source": [
    "# 对角化"
   ]
  },
  {
   "cell_type": "code",
   "execution_count": 58,
   "metadata": {},
   "outputs": [
    {
     "name": "stdout",
     "output_type": "stream",
     "text": [
      "\n",
      "原矩阵:\n"
     ]
    },
    {
     "data": {
      "text/latex": [
       "$\\displaystyle \\left[\\begin{matrix}-2 & 1 & 1\\\\0 & 2 & 0\\\\-4 & 1 & 3\\end{matrix}\\right]$"
      ],
      "text/plain": [
       "⎡-2  1  1⎤\n",
       "⎢        ⎥\n",
       "⎢0   2  0⎥\n",
       "⎢        ⎥\n",
       "⎣-4  1  3⎦"
      ]
     },
     "metadata": {},
     "output_type": "display_data"
    },
    {
     "name": "stdout",
     "output_type": "stream",
     "text": [
      "\n",
      "特征值:\n",
      "{-1: 1, 2: 2}\n",
      "\n",
      "对角化:\n"
     ]
    },
    {
     "data": {
      "text/latex": [
       "$\\displaystyle \\left( \\left[\\begin{matrix}1 & 1 & 1\\\\0 & 4 & 0\\\\1 & 0 & 4\\end{matrix}\\right], \\  \\left[\\begin{matrix}-1 & 0 & 0\\\\0 & 2 & 0\\\\0 & 0 & 2\\end{matrix}\\right]\\right)$"
      ],
      "text/plain": [
       "⎛⎡1  1  1⎤  ⎡-1  0  0⎤⎞\n",
       "⎜⎢       ⎥  ⎢        ⎥⎟\n",
       "⎜⎢0  4  0⎥, ⎢0   2  0⎥⎟\n",
       "⎜⎢       ⎥  ⎢        ⎥⎟\n",
       "⎝⎣1  0  4⎦  ⎣0   0  2⎦⎠"
      ]
     },
     "execution_count": 58,
     "metadata": {},
     "output_type": "execute_result"
    }
   ],
   "source": [
    "A = Matrix([\n",
    "    [ -2, 1,  1],\n",
    "    [0,  2, 0],\n",
    "    [ -4, 1,  3]\n",
    "])\n",
    "print(\"\\n原矩阵:\")\n",
    "display(A)\n",
    "\n",
    "print(\"\\n特征值:\")\n",
    "print(A.eigenvals())\n",
    "\n",
    "print(\"\\n对角化:\")\n",
    "A.diagonalize()"
   ]
  },
  {
   "cell_type": "markdown",
   "metadata": {},
   "source": [
    "# 正交矩阵"
   ]
  },
  {
   "cell_type": "code",
   "execution_count": 66,
   "metadata": {},
   "outputs": [
    {
     "name": "stdout",
     "output_type": "stream",
     "text": [
      "\n",
      "原矩阵:\n"
     ]
    },
    {
     "data": {
      "text/latex": [
       "$\\displaystyle \\left[\\begin{matrix}1 & - \\frac{1}{2} & \\frac{1}{3}\\\\- \\frac{1}{2} & 1 & \\frac{1}{2}\\\\\\frac{1}{3} & \\frac{1}{2} & -1\\end{matrix}\\right]$"
      ],
      "text/plain": [
       "⎡ 1    -1/2  1/3⎤\n",
       "⎢               ⎥\n",
       "⎢-1/2   1    1/2⎥\n",
       "⎢               ⎥\n",
       "⎣1/3   1/2   -1 ⎦"
      ]
     },
     "metadata": {},
     "output_type": "display_data"
    },
    {
     "name": "stdout",
     "output_type": "stream",
     "text": [
      "\n",
      "转置矩阵:\n"
     ]
    },
    {
     "data": {
      "text/latex": [
       "$\\displaystyle \\left[\\begin{matrix}1 & - \\frac{1}{2} & \\frac{1}{3}\\\\- \\frac{1}{2} & 1 & \\frac{1}{2}\\\\\\frac{1}{3} & \\frac{1}{2} & -1\\end{matrix}\\right]$"
      ],
      "text/plain": [
       "⎡ 1    -1/2  1/3⎤\n",
       "⎢               ⎥\n",
       "⎢-1/2   1    1/2⎥\n",
       "⎢               ⎥\n",
       "⎣1/3   1/2   -1 ⎦"
      ]
     },
     "metadata": {},
     "output_type": "display_data"
    },
    {
     "name": "stdout",
     "output_type": "stream",
     "text": [
      "\n",
      "B * Bt:\n"
     ]
    },
    {
     "data": {
      "text/latex": [
       "$\\displaystyle \\left[\\begin{matrix}\\frac{49}{36} & - \\frac{5}{6} & - \\frac{1}{4}\\\\- \\frac{5}{6} & \\frac{3}{2} & - \\frac{1}{6}\\\\- \\frac{1}{4} & - \\frac{1}{6} & \\frac{49}{36}\\end{matrix}\\right]$"
      ],
      "text/plain": [
       "⎡ 49             ⎤\n",
       "⎢ ──   -5/6  -1/4⎥\n",
       "⎢ 36             ⎥\n",
       "⎢                ⎥\n",
       "⎢-5/6  3/2   -1/6⎥\n",
       "⎢                ⎥\n",
       "⎢             49 ⎥\n",
       "⎢-1/4  -1/6   ── ⎥\n",
       "⎣             36 ⎦"
      ]
     },
     "metadata": {},
     "output_type": "display_data"
    }
   ],
   "source": [
    "B = Matrix([\n",
    "    [ 1, Fraction(-1,2),  Fraction(1,3)],\n",
    "    [Fraction(-1,2),  1, Fraction(1,2)],\n",
    "    [ Fraction(1,3), Fraction(1,2),  -1]\n",
    "])\n",
    "Bt = B.T\n",
    "print(\"\\n原矩阵:\")\n",
    "display(B)\n",
    "\n",
    "print(\"\\n转置矩阵:\")\n",
    "display(Bt)\n",
    "\n",
    "print(\"\\nB * Bt:\")\n",
    "display(B*Bt)"
   ]
  }
 ],
 "metadata": {
  "kernelspec": {
   "display_name": "Python 3",
   "language": "python",
   "name": "python3"
  },
  "language_info": {
   "codemirror_mode": {
    "name": "ipython",
    "version": 3
   },
   "file_extension": ".py",
   "mimetype": "text/x-python",
   "name": "python",
   "nbconvert_exporter": "python",
   "pygments_lexer": "ipython3",
   "version": "3.8.3"
  }
 },
 "nbformat": 4,
 "nbformat_minor": 4
}
