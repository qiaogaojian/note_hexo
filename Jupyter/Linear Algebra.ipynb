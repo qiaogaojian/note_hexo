{
 "cells": [
  {
   "cell_type": "code",
   "execution_count": 3,
   "metadata": {},
   "outputs": [],
   "source": [
    "from sympy import *\n",
    "from sympy import symbols\n",
    "import numpy as np\n",
    "from fractions import Fraction\n",
    "from sympy.vector import *"
   ]
  },
  {
   "cell_type": "code",
   "execution_count": 4,
   "metadata": {},
   "outputs": [],
   "source": [
    "init_printing(use_latex=true)"
   ]
  },
  {
   "cell_type": "markdown",
   "metadata": {},
   "source": [
    "# 对角化"
   ]
  },
  {
   "cell_type": "code",
   "execution_count": 8,
   "metadata": {},
   "outputs": [
    {
     "name": "stdout",
     "output_type": "stream",
     "text": [
      "\n",
      "原矩阵:\n"
     ]
    },
    {
     "data": {
      "text/latex": [
       "$\\displaystyle \\left[\\begin{matrix}1 & 1 & 1\\\\0 & 0 & 0\\\\0 & 0 & 0\\end{matrix}\\right]$"
      ],
      "text/plain": [
       "⎡1  1  1⎤\n",
       "⎢       ⎥\n",
       "⎢0  0  0⎥\n",
       "⎢       ⎥\n",
       "⎣0  0  0⎦"
      ]
     },
     "metadata": {},
     "output_type": "display_data"
    },
    {
     "name": "stdout",
     "output_type": "stream",
     "text": [
      "\n",
      "特征值:\n",
      "{1: 1, 0: 2}\n",
      "\n",
      "对角化:\n"
     ]
    },
    {
     "data": {
      "text/latex": [
       "$\\displaystyle \\left( \\left[\\begin{matrix}-1 & -1 & 1\\\\1 & 0 & 0\\\\0 & 1 & 0\\end{matrix}\\right], \\  \\left[\\begin{matrix}0 & 0 & 0\\\\0 & 0 & 0\\\\0 & 0 & 1\\end{matrix}\\right]\\right)$"
      ],
      "text/plain": [
       "⎛⎡-1  -1  1⎤  ⎡0  0  0⎤⎞\n",
       "⎜⎢         ⎥  ⎢       ⎥⎟\n",
       "⎜⎢1   0   0⎥, ⎢0  0  0⎥⎟\n",
       "⎜⎢         ⎥  ⎢       ⎥⎟\n",
       "⎝⎣0   1   0⎦  ⎣0  0  1⎦⎠"
      ]
     },
     "execution_count": 8,
     "metadata": {},
     "output_type": "execute_result"
    }
   ],
   "source": [
    "A = Matrix([\n",
    "    [1, 1, 1],\n",
    "    [0, 0, 0],\n",
    "    [0, 0, 0]\n",
    "])\n",
    "print(\"\\n原矩阵:\")\n",
    "display(A)\n",
    "\n",
    "print(\"\\n特征值:\")\n",
    "print(A.eigenvals())\n",
    "\n",
    "print(\"\\n对角化:\")\n",
    "A.diagonalize()"
   ]
  },
  {
   "cell_type": "markdown",
   "metadata": {},
   "source": [
    "# 正交矩阵"
   ]
  },
  {
   "cell_type": "code",
   "execution_count": 67,
   "metadata": {},
   "outputs": [
    {
     "name": "stdout",
     "output_type": "stream",
     "text": [
      "\n",
      "原矩阵:\n",
      "\n",
      "转置矩阵:\n",
      "\n",
      "B * Bt:\n"
     ]
    }
   ],
   "source": [
    "B = Matrix([\n",
    "    [ 1, Fraction(-1,2),  Fraction(1,3)],\n",
    "    [Fraction(-1,2),  1, Fraction(1,2)],\n",
    "    [ Fraction(1,3), Fraction(1,2),  -1]\n",
    "])\n",
    "Bt = B.T\n",
    "print(\"\\n原矩阵:\")\n",
    "# display(B)\n",
    "\n",
    "print(\"\\n转置矩阵:\")\n",
    "# display(Bt)\n",
    "\n",
    "print(\"\\nB * Bt:\")\n",
    "# display(B*Bt)"
   ]
  },
  {
   "cell_type": "markdown",
   "metadata": {},
   "source": [
    "# 施密特正交化"
   ]
  },
  {
   "cell_type": "code",
   "execution_count": 69,
   "metadata": {},
   "outputs": [
    {
     "data": {
      "text/latex": [
       "$\\displaystyle \\left[\\begin{matrix}1\\\\0\\\\0\\end{matrix}\\right]$"
      ],
      "text/plain": [
       "⎡1⎤\n",
       "⎢ ⎥\n",
       "⎢0⎥\n",
       "⎢ ⎥\n",
       "⎣0⎦"
      ]
     },
     "metadata": {},
     "output_type": "display_data"
    },
    {
     "data": {
      "text/latex": [
       "$\\displaystyle \\left[\\begin{matrix}0\\\\2\\\\1\\end{matrix}\\right]$"
      ],
      "text/plain": [
       "⎡0⎤\n",
       "⎢ ⎥\n",
       "⎢2⎥\n",
       "⎢ ⎥\n",
       "⎣1⎦"
      ]
     },
     "metadata": {},
     "output_type": "display_data"
    },
    {
     "data": {
      "text/latex": [
       "$\\displaystyle \\left[\\begin{matrix}0\\\\-1\\\\2\\end{matrix}\\right]$"
      ],
      "text/plain": [
       "⎡0 ⎤\n",
       "⎢  ⎥\n",
       "⎢-1⎥\n",
       "⎢  ⎥\n",
       "⎣2 ⎦"
      ]
     },
     "metadata": {},
     "output_type": "display_data"
    }
   ],
   "source": [
    "a1 = Matrix([1,0,0])\n",
    "a2 = Matrix([0,2,1])\n",
    "a3 = Matrix([0,1,3])\n",
    "# display(a1)\n",
    "# display(a2)\n",
    "# display(a3)\n",
    "\n",
    "e1 = a1\n",
    "e2 = a2 - a2.dot(e1)/e1.dot(e1)*e1\n",
    "e3 = a3 - a3.dot(e1)/a1.dot(e1)*e1 - a3.dot(e2)/e2.dot(e2)*e2\n",
    "display(e1)\n",
    "display(e2)\n",
    "display(e3)\n",
    "\n"
   ]
  },
  {
   "cell_type": "code",
   "execution_count": 84,
   "metadata": {},
   "outputs": [
    {
     "data": {
      "image/png": "[encoded data removed]",
      "text/latex": [
       "$\\displaystyle \\mathbf{\\hat{i}_{c}} + (2)\\mathbf{\\hat{j}_{c}} + (2)\\mathbf{\\hat{k}_{c}}$"
      ],
      "text/plain": [
       "c.i + 2*c.j + 2*c.k"
      ]
     },
     "metadata": {},
     "output_type": "display_data"
    },
    {
     "data": {
      "image/png": "[encoded data removed]",
      "text/latex": [
       "$\\displaystyle (-2)\\mathbf{\\hat{i}_{c}} - \\mathbf{\\hat{j}_{c}} + (2)\\mathbf{\\hat{k}_{c}}$"
      ],
      "text/plain": [
       "(-2)*c.i + (-1)*c.j + 2*c.k"
      ]
     },
     "metadata": {},
     "output_type": "display_data"
    },
    {
     "data": {
      "image/png": "[encoded data removed]",
      "text/latex": [
       "$\\displaystyle (2)\\mathbf{\\hat{i}_{c}} + (-2)\\mathbf{\\hat{j}_{c}} + \\mathbf{\\hat{k}_{c}}$"
      ],
      "text/plain": [
       "2*c.i + (-2)*c.j + c.k"
      ]
     },
     "metadata": {},
     "output_type": "display_data"
    },
    {
     "data": {
      "text/latex": [
       "$\\displaystyle \\left[\\begin{matrix}\\frac{1}{3}\\\\\\frac{2}{3}\\\\\\frac{2}{3}\\end{matrix}\\right]$"
      ],
      "text/plain": [
       "⎡1/3⎤\n",
       "⎢   ⎥\n",
       "⎢2/3⎥\n",
       "⎢   ⎥\n",
       "⎣2/3⎦"
      ]
     },
     "metadata": {},
     "output_type": "display_data"
    },
    {
     "data": {
      "text/latex": [
       "$\\displaystyle \\left[\\begin{matrix}- \\frac{2}{3}\\\\- \\frac{1}{3}\\\\\\frac{2}{3}\\end{matrix}\\right]$"
      ],
      "text/plain": [
       "⎡-2/3⎤\n",
       "⎢    ⎥\n",
       "⎢-1/3⎥\n",
       "⎢    ⎥\n",
       "⎣2/3 ⎦"
      ]
     },
     "metadata": {},
     "output_type": "display_data"
    },
    {
     "data": {
      "text/latex": [
       "$\\displaystyle \\left[\\begin{matrix}\\frac{2}{3}\\\\- \\frac{2}{3}\\\\\\frac{1}{3}\\end{matrix}\\right]$"
      ],
      "text/plain": [
       "⎡2/3 ⎤\n",
       "⎢    ⎥\n",
       "⎢-2/3⎥\n",
       "⎢    ⎥\n",
       "⎣1/3 ⎦"
      ]
     },
     "metadata": {},
     "output_type": "display_data"
    },
    {
     "name": "stdout",
     "output_type": "stream",
     "text": [
      "0\n",
      "0\n",
      "0\n"
     ]
    }
   ],
   "source": [
    "C = CoordSys3D('c')\n",
    "i,j,k = C.i,C.j,C.k\n",
    "v1 = 1 * i + 2 * j + 2 * k\n",
    "v2 = -2 * i + -1* j + 2 * k\n",
    "v3 = 2 * i + -2 * j + 1 * k\n",
    "\n",
    "display(v1)\n",
    "display(v2)\n",
    "display(v3)\n",
    "\n",
    "e1 = v1\n",
    "e2 = v2 - v2.dot(e1)/v1.dot(e1)*e1\n",
    "e3 = v3 - v3.dot(e1)/v1.dot(e1)*e1 - v3.dot(e2)/e2.dot(e2)*e2\n",
    "\n",
    "display(e1.normalize().to_matrix(C))\n",
    "display(e2.normalize().to_matrix(C))\n",
    "display(e3.normalize().to_matrix(C))\n",
    "\n",
    "print(e1.dot(e2))\n",
    "print(e1.dot(e3))\n",
    "print(e2.dot(e3))"
   ]
  }
 ],
 "metadata": {
  "kernelspec": {
   "display_name": "Python 3",
   "language": "python",
   "name": "python3"
  },
  "language_info": {
   "codemirror_mode": {
    "name": "ipython",
    "version": 3
   },
   "file_extension": ".py",
   "mimetype": "text/x-python",
   "name": "python",
   "nbconvert_exporter": "python",
   "pygments_lexer": "ipython3",
   "version": "3.8.3"
  }
 },
 "nbformat": 4,
 "nbformat_minor": 4
}
